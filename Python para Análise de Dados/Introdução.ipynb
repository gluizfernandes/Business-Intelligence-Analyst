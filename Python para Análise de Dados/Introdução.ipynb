{
 "cells": [
  {
   "cell_type": "markdown",
   "id": "fc2b18c9",
   "metadata": {},
   "source": [
    "## O que é Python? ##\n",
    "### Python é uma linguagem de programação popular. ###"
   ]
  },
  {
   "cell_type": "markdown",
   "id": "892cb6b1",
   "metadata": {},
   "source": [
    "## Python pode ser usado para: ##\n",
    "* Inteligência Artificial;\n",
    "* Machine Learning;\n",
    "* Desenvolvimento de Software;\n",
    "* Desenvolvimento de aplicativos;\n",
    "* Automações (RPA);\n",
    "* IoT (internet das coisas);\n",
    "* Muitas outras."
   ]
  },
  {
   "cell_type": "markdown",
   "id": "d86d9c1c",
   "metadata": {},
   "source": [
    "## 1.0 - Sintaxe básica ##\n",
    "* Digitar textos: \"\" ou ''\n",
    "* Pular linha: \\n\n",
    "* Citar algo dentro da fórmula: # #"
   ]
  },
  {
   "cell_type": "markdown",
   "id": "e5551201",
   "metadata": {},
   "source": [
    "## 2.0 - Operadores Matemáticos\n",
    "* <b>Adição:</b> +\n",
    "* <b>Subtração:</b> -\n",
    "* <b>Multiplicação:</b> *\n",
    "* <b>Divisão:</b> /\n",
    "* <b>Exponenciação:</b> **\n",
    "* <b>Resto da Divisão:</b> %\n",
    "* <b>Divisão de Piso:</b> //"
   ]
  },
  {
   "cell_type": "markdown",
   "id": "c6c6d6c1",
   "metadata": {},
   "source": [
    "## 3.0 - Variáveis\n",
    "Variáveis são <b>contêineres</b> para armazenar valores de dados, e ao utilizar esse contêiner como um comando, ele retornará o valor armazenado.\n"
   ]
  },
  {
   "cell_type": "markdown",
   "id": "d264c88b",
   "metadata": {},
   "source": [
    "## 4.0 - Variáveis\n",
    "* Listas: [ ]\n",
    "* Tuplas: ( ) \n",
    "* Dicionários: { } "
   ]
  },
  {
   "cell_type": "code",
   "execution_count": null,
   "id": "cff8dd1a",
   "metadata": {},
   "outputs": [],
   "source": []
  }
 ],
 "metadata": {
  "kernelspec": {
   "display_name": "Python 3 (ipykernel)",
   "language": "python",
   "name": "python3"
  },
  "language_info": {
   "codemirror_mode": {
    "name": "ipython",
    "version": 3
   },
   "file_extension": ".py",
   "mimetype": "text/x-python",
   "name": "python",
   "nbconvert_exporter": "python",
   "pygments_lexer": "ipython3",
   "version": "3.10.2"
  }
 },
 "nbformat": 4,
 "nbformat_minor": 5
}
