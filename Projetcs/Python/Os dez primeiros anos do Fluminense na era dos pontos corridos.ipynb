{
 "cells": [
  {
   "cell_type": "markdown",
   "id": "b9aa9094",
   "metadata": {},
   "source": [
    "## 1.0 - Importando as Bibliotecas"
   ]
  },
  {
   "cell_type": "code",
   "execution_count": 1,
   "id": "3ea64df7",
   "metadata": {},
   "outputs": [],
   "source": [
    "import pandas as pd\n",
    "import numpy as np\n",
    "import matplotlib.pyplot as plt\n",
    "import matplotlib as rc"
   ]
  },
  {
   "cell_type": "markdown",
   "id": "2c87cf7b",
   "metadata": {},
   "source": [
    "## 2.0 - Tratamento dos Dados"
   ]
  },
  {
   "cell_type": "markdown",
   "id": "4cc46e66",
   "metadata": {},
   "source": [
    "### 2.1 - Extração dos Dados"
   ]
  },
  {
   "cell_type": "code",
   "execution_count": 2,
   "id": "9138d246",
   "metadata": {},
   "outputs": [
    {
     "data": {
      "text/html": [
       "<div>\n",
       "<style scoped>\n",
       "    .dataframe tbody tr th:only-of-type {\n",
       "        vertical-align: middle;\n",
       "    }\n",
       "\n",
       "    .dataframe tbody tr th {\n",
       "        vertical-align: top;\n",
       "    }\n",
       "\n",
       "    .dataframe thead th {\n",
       "        text-align: right;\n",
       "    }\n",
       "</style>\n",
       "<table border=\"1\" class=\"dataframe\">\n",
       "  <thead>\n",
       "    <tr style=\"text-align: right;\">\n",
       "      <th></th>\n",
       "      <th>Horário</th>\n",
       "      <th>Dia</th>\n",
       "      <th>Data</th>\n",
       "      <th>Clube 1</th>\n",
       "      <th>Clube 2</th>\n",
       "      <th>Vencedor</th>\n",
       "      <th>Rodada</th>\n",
       "      <th>Arena</th>\n",
       "      <th>Clube 1 Gols</th>\n",
       "      <th>Clube 2 Gols</th>\n",
       "      <th>Clube 1 Estado</th>\n",
       "      <th>Clube 2 Estado</th>\n",
       "      <th>Estado Clube Vencedor</th>\n",
       "    </tr>\n",
       "  </thead>\n",
       "  <tbody>\n",
       "    <tr>\n",
       "      <th>0</th>\n",
       "      <td>16h00</td>\n",
       "      <td>Sábado</td>\n",
       "      <td>2000-07-29</td>\n",
       "      <td>Fluminense</td>\n",
       "      <td>Bahia</td>\n",
       "      <td>Fluminense</td>\n",
       "      <td>1ª Rodada</td>\n",
       "      <td>Maracanã</td>\n",
       "      <td>2</td>\n",
       "      <td>0</td>\n",
       "      <td>RJ</td>\n",
       "      <td>BA</td>\n",
       "      <td>RJ</td>\n",
       "    </tr>\n",
       "    <tr>\n",
       "      <th>1</th>\n",
       "      <td>16h00</td>\n",
       "      <td>Sábado</td>\n",
       "      <td>2000-07-29</td>\n",
       "      <td>Vasco</td>\n",
       "      <td>Sport</td>\n",
       "      <td>Sport</td>\n",
       "      <td>1ª Rodada</td>\n",
       "      <td>São Januário</td>\n",
       "      <td>0</td>\n",
       "      <td>2</td>\n",
       "      <td>RJ</td>\n",
       "      <td>PE</td>\n",
       "      <td>PE</td>\n",
       "    </tr>\n",
       "    <tr>\n",
       "      <th>2</th>\n",
       "      <td>16h00</td>\n",
       "      <td>Sábado</td>\n",
       "      <td>2000-07-29</td>\n",
       "      <td>Vitória</td>\n",
       "      <td>Palmeiras</td>\n",
       "      <td>Vitória</td>\n",
       "      <td>1ª Rodada</td>\n",
       "      <td>Barradão</td>\n",
       "      <td>4</td>\n",
       "      <td>1</td>\n",
       "      <td>ES</td>\n",
       "      <td>SP</td>\n",
       "      <td>ES</td>\n",
       "    </tr>\n",
       "    <tr>\n",
       "      <th>3</th>\n",
       "      <td>17h00</td>\n",
       "      <td>Domingo</td>\n",
       "      <td>2000-07-30</td>\n",
       "      <td>Botafogo-RJ</td>\n",
       "      <td>Atlético-MG</td>\n",
       "      <td>-</td>\n",
       "      <td>1ª Rodada</td>\n",
       "      <td>Caio Martins</td>\n",
       "      <td>0</td>\n",
       "      <td>0</td>\n",
       "      <td>RJ</td>\n",
       "      <td>MG</td>\n",
       "      <td>Empate</td>\n",
       "    </tr>\n",
       "    <tr>\n",
       "      <th>4</th>\n",
       "      <td>18h30</td>\n",
       "      <td>Domingo</td>\n",
       "      <td>2000-07-30</td>\n",
       "      <td>Juventude</td>\n",
       "      <td>Flamengo</td>\n",
       "      <td>-</td>\n",
       "      <td>1ª Rodada</td>\n",
       "      <td>Alfredo Jaconi</td>\n",
       "      <td>1</td>\n",
       "      <td>1</td>\n",
       "      <td>RS</td>\n",
       "      <td>RJ</td>\n",
       "      <td>Empate</td>\n",
       "    </tr>\n",
       "  </tbody>\n",
       "</table>\n",
       "</div>"
      ],
      "text/plain": [
       "  Horário      Dia        Data      Clube 1      Clube 2    Vencedor  \\\n",
       "0   16h00   Sábado  2000-07-29   Fluminense        Bahia  Fluminense   \n",
       "1   16h00   Sábado  2000-07-29        Vasco        Sport       Sport   \n",
       "2   16h00   Sábado  2000-07-29      Vitória    Palmeiras     Vitória   \n",
       "3   17h00  Domingo  2000-07-30  Botafogo-RJ  Atlético-MG           -   \n",
       "4   18h30  Domingo  2000-07-30    Juventude     Flamengo           -   \n",
       "\n",
       "      Rodada           Arena  Clube 1 Gols  Clube 2 Gols Clube 1 Estado  \\\n",
       "0  1ª Rodada        Maracanã             2             0             RJ   \n",
       "1  1ª Rodada    São Januário             0             2             RJ   \n",
       "2  1ª Rodada        Barradão             4             1             ES   \n",
       "3  1ª Rodada    Caio Martins             0             0             RJ   \n",
       "4  1ª Rodada  Alfredo Jaconi             1             1             RS   \n",
       "\n",
       "  Clube 2 Estado Estado Clube Vencedor  \n",
       "0             BA                    RJ  \n",
       "1             PE                    PE  \n",
       "2             SP                    ES  \n",
       "3             MG                Empate  \n",
       "4             RJ                Empate  "
      ]
     },
     "execution_count": 2,
     "metadata": {},
     "output_type": "execute_result"
    }
   ],
   "source": [
    "df = pd.read_csv('campeonato-brasileiro-full.csv')\n",
    "df.head()"
   ]
  },
  {
   "cell_type": "markdown",
   "id": "077fafe2",
   "metadata": {},
   "source": [
    "### 2.2 - Padronizando os dados ###\n",
    "Alguns dados não estão seguindo o mesmo padrão, então será necessário padronizar o nome de cada time, com apenas a primeira letra em maiúsculo. "
   ]
  },
  {
   "cell_type": "code",
   "execution_count": 3,
   "id": "a4c03b32",
   "metadata": {},
   "outputs": [
    {
     "name": "stdout",
     "output_type": "stream",
     "text": [
      "['Fluminense' 'Vasco' 'Vitória' 'Botafogo-RJ' 'Juventude' 'Guarani'\n",
      " 'Cruzeiro' 'América-MG' 'Goiás' 'Coritiba' 'Bahia' 'Flamengo' 'Gama'\n",
      " 'Internacional' 'Ponte Preta' 'Santos' 'Palmeiras' 'Athlético-PR'\n",
      " 'Corinthians' 'Atlético-MG' 'Portuguesa' 'Grêmio' 'São Paulo'\n",
      " 'Santa Cruz' 'Sport' 'INTERNACIONAL' 'Paraná' 'REMO' 'São Caetano'\n",
      " 'MALUTROM' 'PALMEIRAS' 'BAHIA' 'CRUZEIRO' 'PONTE PRETA' 'FLUMINENSE'\n",
      " 'SPORT' 'VASCO' 'Botafogo-SP' 'Figueirense' 'Paysandu' 'SANTOS'\n",
      " 'CORINTHIANS' 'JUVENTUDE' 'Fortaleza' 'Criciúma' 'Brasiliense'\n",
      " 'América-RN' 'Náutico' 'Ipatinga' 'Avaí' 'Santo André' 'Barueri'\n",
      " 'FLAMENGO' 'Atlético-GO' 'Ceará' 'Grêmio Prudente' 'Chapecoense'\n",
      " 'Joinville' 'Botafogo-rj' 'CSA']\n"
     ]
    }
   ],
   "source": [
    "print(df['Clube 1'].unique())"
   ]
  },
  {
   "cell_type": "code",
   "execution_count": 4,
   "id": "881977ee",
   "metadata": {},
   "outputs": [
    {
     "name": "stdout",
     "output_type": "stream",
     "text": [
      "['Bahia' 'Sport' 'Palmeiras' 'Atlético-MG' 'Flamengo' 'Santa Cruz'\n",
      " 'Athlético-PR' 'Gama' 'Corinthians' 'Grêmio' 'Fluminense' 'Goiás'\n",
      " 'América-MG' 'Vitória' 'Botafogo-RJ' 'Santos' 'Cruzeiro' 'Ponte Preta'\n",
      " 'Guarani' 'São Paulo' 'Portuguesa' 'Coritiba' 'Internacional' 'Juventude'\n",
      " 'Vasco' 'SPORT' 'FLUMINENSE' 'CRUZEIRO' 'PONTE PRETA' 'VASCO'\n",
      " 'INTERNACIONAL' 'Paraná' 'MALUTROM' 'São Caetano' 'REMO' 'BAHIA'\n",
      " 'PALMEIRAS' 'Botafogo-SP' 'portuguesa' 'Paysandu' 'Figueirense'\n",
      " 'JUVENTUDE' 'CORINTHIANS' 'SANTOS' 'Fortaleza' 'Criciúma' 'PAYSANDU'\n",
      " 'Brasiliense' 'Náutico' 'América-RN' 'Ipatinga' 'Barueri' 'Avaí'\n",
      " 'Santo André' 'Grêmio Prudente' 'Atlético-GO' 'Ceará' 'GUARANI'\n",
      " 'Chapecoense' 'Joinville' 'Botafogo-rj' 'CSA']\n"
     ]
    }
   ],
   "source": [
    "print(df['Clube 2'].unique())"
   ]
  },
  {
   "cell_type": "code",
   "execution_count": 5,
   "id": "211f5875",
   "metadata": {},
   "outputs": [],
   "source": [
    "df = df.replace(['INTERNACIONAL','REMO','MALUTROM','PALMEIRAS','BAHIA','CRUZEIRO','PONTE PRETA',\n",
    "                 'FLUMINENSE','SPORT','VASCO','SANTOS','CORINTHIANS','JUVENTUDE','FLAMENGO','GUARANI','PAYSANDU','Botafogo-RJ'],\n",
    "                ['Internacional','Remo','Malutrom','Palmeiras','Bahia','Cruzeiro','Ponte Preta',\n",
    "                 'Fluminense','Sport','Vasco','Santos','Corinthians','Juventude','Flamengo','Guarani','Paysandu','Botafogo-rj'])"
   ]
  },
  {
   "cell_type": "markdown",
   "id": "2515784f",
   "metadata": {},
   "source": [
    "### 2.3 - Reestruturação das tabelas ###\n",
    "A tabela possui alguns dados desnecessários, por conta disso, será criado uma nova com as seguintes colunas:\n",
    "* Ano\n",
    "* Time Mandante\n",
    "* Time Visitante\n",
    "* Gols Mandante\n",
    "* Gols Visitante\n",
    "* Vencedor"
   ]
  },
  {
   "cell_type": "markdown",
   "id": "07c23950",
   "metadata": {},
   "source": [
    "### 2.4 - Filtrando os dados ###\n",
    "Como a análise será apenas dos <b> dez primeiros anos dos pontos corridos</b>, será necessário retirar os dados antes de 2003(Ano que iniciou os pontos corridos) e depois de 2012(Pois formou os dez anos).\n"
   ]
  },
  {
   "cell_type": "markdown",
   "id": "3a197462",
   "metadata": {},
   "source": [
    "<b> Criando coluna Ano </b>"
   ]
  },
  {
   "cell_type": "code",
   "execution_count": 6,
   "id": "a80dd12b",
   "metadata": {},
   "outputs": [],
   "source": [
    "df['Data'] = pd.to_datetime(df['Data'])\n",
    "df['Ano'] = df['Data'].dt.year"
   ]
  },
  {
   "cell_type": "markdown",
   "id": "288f1ea4",
   "metadata": {},
   "source": [
    "<b> Retirando os dados antes de 2003 e depois de 2012. </b>"
   ]
  },
  {
   "cell_type": "code",
   "execution_count": 7,
   "id": "b6f96b56",
   "metadata": {},
   "outputs": [],
   "source": [
    "df = df.drop(df[df.Ano < 2003].index)\n",
    "df = df.drop(df[df.Ano > 2012].index)"
   ]
  },
  {
   "cell_type": "markdown",
   "id": "6bf5425f",
   "metadata": {},
   "source": [
    "<b> Retirando os dados que não serão utilizados </b>"
   ]
  },
  {
   "cell_type": "markdown",
   "id": "c709f18b",
   "metadata": {},
   "source": [
    "df = df.drop(['Horário', 'Dia','Rodada','Arena','Clube 1 Estado','Clube 2 Estado','Estado Clube Vencedor'], axis = 1)"
   ]
  },
  {
   "cell_type": "markdown",
   "id": "9ee3187a",
   "metadata": {},
   "source": [
    "<b> Renomeando as colunas </b>"
   ]
  },
  {
   "cell_type": "code",
   "execution_count": 8,
   "id": "4d6a4725",
   "metadata": {},
   "outputs": [],
   "source": [
    "df = df.rename(columns={\"Clube 1\":\"Mandante\",\"Clube 2\":\"Visitante\",\"Clube 1 Gols\":\"Mandante Gols\",\n",
    "                        \"Clube 2 Gols\":\"Visitante Gols\"})"
   ]
  },
  {
   "cell_type": "markdown",
   "id": "09389e52",
   "metadata": {},
   "source": [
    "<b> Trocando o \"-\" por \"Empate\"</b>"
   ]
  },
  {
   "cell_type": "code",
   "execution_count": 9,
   "id": "e6d2d6bd",
   "metadata": {},
   "outputs": [],
   "source": [
    "df = df.replace('-','Empate')"
   ]
  },
  {
   "cell_type": "markdown",
   "id": "033e05a7",
   "metadata": {},
   "source": [
    "<b> Criando uma nova Dataframe </b>"
   ]
  },
  {
   "cell_type": "code",
   "execution_count": 10,
   "id": "71caf599",
   "metadata": {},
   "outputs": [],
   "source": [
    "dados = df.copy()"
   ]
  },
  {
   "cell_type": "markdown",
   "id": "8106f812",
   "metadata": {},
   "source": [
    "<b> Retirar os dados referente as partida que o Fluminense não jogou </b>"
   ]
  },
  {
   "cell_type": "code",
   "execution_count": 11,
   "id": "73e6fd08",
   "metadata": {},
   "outputs": [],
   "source": [
    "df = df.drop(df[(df['Mandante'] != 'Fluminense') & (df['Visitante'] != 'Fluminense')].index)"
   ]
  },
  {
   "cell_type": "markdown",
   "id": "aa26ebd1",
   "metadata": {},
   "source": [
    "## 3.0 - Visualizando os novos dados"
   ]
  },
  {
   "cell_type": "markdown",
   "id": "fff29762",
   "metadata": {},
   "source": [
    "### 3.1 - Nova tabela"
   ]
  },
  {
   "cell_type": "code",
   "execution_count": 12,
   "id": "773a3300",
   "metadata": {},
   "outputs": [
    {
     "data": {
      "text/html": [
       "<div>\n",
       "<style scoped>\n",
       "    .dataframe tbody tr th:only-of-type {\n",
       "        vertical-align: middle;\n",
       "    }\n",
       "\n",
       "    .dataframe tbody tr th {\n",
       "        vertical-align: top;\n",
       "    }\n",
       "\n",
       "    .dataframe thead th {\n",
       "        text-align: right;\n",
       "    }\n",
       "</style>\n",
       "<table border=\"1\" class=\"dataframe\">\n",
       "  <thead>\n",
       "    <tr style=\"text-align: right;\">\n",
       "      <th></th>\n",
       "      <th>Horário</th>\n",
       "      <th>Dia</th>\n",
       "      <th>Data</th>\n",
       "      <th>Mandante</th>\n",
       "      <th>Visitante</th>\n",
       "      <th>Vencedor</th>\n",
       "      <th>Rodada</th>\n",
       "      <th>Arena</th>\n",
       "      <th>Mandante Gols</th>\n",
       "      <th>Visitante Gols</th>\n",
       "      <th>Clube 1 Estado</th>\n",
       "      <th>Clube 2 Estado</th>\n",
       "      <th>Estado Clube Vencedor</th>\n",
       "      <th>Ano</th>\n",
       "    </tr>\n",
       "  </thead>\n",
       "  <tbody>\n",
       "    <tr>\n",
       "      <th>1064</th>\n",
       "      <td>16h00</td>\n",
       "      <td>Domingo</td>\n",
       "      <td>2003-03-30</td>\n",
       "      <td>Criciúma</td>\n",
       "      <td>Fluminense</td>\n",
       "      <td>Criciúma</td>\n",
       "      <td>1ª Rodada</td>\n",
       "      <td>Heriberto Hulse</td>\n",
       "      <td>2</td>\n",
       "      <td>0</td>\n",
       "      <td>SC</td>\n",
       "      <td>RJ</td>\n",
       "      <td>SC</td>\n",
       "      <td>2003</td>\n",
       "    </tr>\n",
       "    <tr>\n",
       "      <th>1065</th>\n",
       "      <td>16h00</td>\n",
       "      <td>Sábado</td>\n",
       "      <td>2003-04-05</td>\n",
       "      <td>Fluminense</td>\n",
       "      <td>Fortaleza</td>\n",
       "      <td>Empate</td>\n",
       "      <td>2ª Rodada</td>\n",
       "      <td>Maracanã</td>\n",
       "      <td>1</td>\n",
       "      <td>1</td>\n",
       "      <td>RJ</td>\n",
       "      <td>CE</td>\n",
       "      <td>Empate</td>\n",
       "      <td>2003</td>\n",
       "    </tr>\n",
       "    <tr>\n",
       "      <th>1086</th>\n",
       "      <td>18h00</td>\n",
       "      <td>Domingo</td>\n",
       "      <td>2003-04-13</td>\n",
       "      <td>Flamengo</td>\n",
       "      <td>Fluminense</td>\n",
       "      <td>Flamengo</td>\n",
       "      <td>3ª Rodada</td>\n",
       "      <td>Maracanã</td>\n",
       "      <td>4</td>\n",
       "      <td>1</td>\n",
       "      <td>RJ</td>\n",
       "      <td>RJ</td>\n",
       "      <td>RJ</td>\n",
       "      <td>2003</td>\n",
       "    </tr>\n",
       "    <tr>\n",
       "      <th>1098</th>\n",
       "      <td>20h30</td>\n",
       "      <td>Quinta-feira</td>\n",
       "      <td>2003-04-17</td>\n",
       "      <td>Fluminense</td>\n",
       "      <td>Internacional</td>\n",
       "      <td>Fluminense</td>\n",
       "      <td>4ª Rodada</td>\n",
       "      <td>Maracanã</td>\n",
       "      <td>3</td>\n",
       "      <td>1</td>\n",
       "      <td>RJ</td>\n",
       "      <td>RS</td>\n",
       "      <td>RJ</td>\n",
       "      <td>2003</td>\n",
       "    </tr>\n",
       "    <tr>\n",
       "      <th>1105</th>\n",
       "      <td>18h00</td>\n",
       "      <td>Domingo</td>\n",
       "      <td>2003-04-20</td>\n",
       "      <td>Fluminense</td>\n",
       "      <td>Paraná</td>\n",
       "      <td>Empate</td>\n",
       "      <td>5ª Rodada</td>\n",
       "      <td>Maracanã</td>\n",
       "      <td>0</td>\n",
       "      <td>0</td>\n",
       "      <td>RJ</td>\n",
       "      <td>PR</td>\n",
       "      <td>Empate</td>\n",
       "      <td>2003</td>\n",
       "    </tr>\n",
       "  </tbody>\n",
       "</table>\n",
       "</div>"
      ],
      "text/plain": [
       "     Horário           Dia       Data    Mandante      Visitante    Vencedor  \\\n",
       "1064   16h00       Domingo 2003-03-30    Criciúma     Fluminense    Criciúma   \n",
       "1065   16h00        Sábado 2003-04-05  Fluminense      Fortaleza      Empate   \n",
       "1086   18h00       Domingo 2003-04-13    Flamengo     Fluminense    Flamengo   \n",
       "1098   20h30  Quinta-feira 2003-04-17  Fluminense  Internacional  Fluminense   \n",
       "1105   18h00       Domingo 2003-04-20  Fluminense         Paraná      Empate   \n",
       "\n",
       "         Rodada            Arena  Mandante Gols  Visitante Gols  \\\n",
       "1064  1ª Rodada  Heriberto Hulse              2               0   \n",
       "1065  2ª Rodada         Maracanã              1               1   \n",
       "1086  3ª Rodada         Maracanã              4               1   \n",
       "1098  4ª Rodada         Maracanã              3               1   \n",
       "1105  5ª Rodada         Maracanã              0               0   \n",
       "\n",
       "     Clube 1 Estado Clube 2 Estado Estado Clube Vencedor   Ano  \n",
       "1064             SC             RJ                    SC  2003  \n",
       "1065             RJ             CE                Empate  2003  \n",
       "1086             RJ             RJ                    RJ  2003  \n",
       "1098             RJ             RS                    RJ  2003  \n",
       "1105             RJ             PR                Empate  2003  "
      ]
     },
     "execution_count": 12,
     "metadata": {},
     "output_type": "execute_result"
    }
   ],
   "source": [
    "df.head()"
   ]
  },
  {
   "cell_type": "markdown",
   "id": "e4bdb06b",
   "metadata": {},
   "source": [
    "### 3.2 - Jogos por ano"
   ]
  },
  {
   "cell_type": "code",
   "execution_count": 13,
   "id": "122ba8d1",
   "metadata": {},
   "outputs": [
    {
     "name": "stdout",
     "output_type": "stream",
     "text": [
      "    Ano  Jogos\n",
      "0  2003     46\n",
      "1  2004     46\n",
      "2  2005     42\n",
      "3  2006     38\n",
      "4  2007     38\n",
      "5  2008     38\n",
      "6  2009     38\n",
      "7  2010     38\n",
      "8  2011     38\n",
      "9  2012     38\n"
     ]
    }
   ],
   "source": [
    "jogos = df.groupby('Ano')['Ano'].count()\n",
    "jogos = pd.DataFrame(jogos)\n",
    "jogos.columns = ['Jogos']\n",
    "jogos.reset_index(level=0, inplace=True)\n",
    "print(jogos)"
   ]
  },
  {
   "cell_type": "markdown",
   "id": "7f6c6c82",
   "metadata": {},
   "source": [
    "## 4.0 - KPI: Gols marcados"
   ]
  },
  {
   "cell_type": "markdown",
   "id": "d446942d",
   "metadata": {},
   "source": [
    "### 4.1 - Partidas como mandante"
   ]
  },
  {
   "cell_type": "markdown",
   "id": "bbdf352f",
   "metadata": {},
   "source": [
    "<b> Dataframe: Partidas como mandante </b>"
   ]
  },
  {
   "cell_type": "code",
   "execution_count": 14,
   "id": "3dadfdcd",
   "metadata": {},
   "outputs": [],
   "source": [
    "mandante = df.copy()\n",
    "mandante = mandante.drop(mandante[mandante['Mandante'] != 'Fluminense'].index)"
   ]
  },
  {
   "cell_type": "markdown",
   "id": "ca655f4f",
   "metadata": {},
   "source": [
    "<b> Dataframe: Partidas como mandante por ano </b>"
   ]
  },
  {
   "cell_type": "code",
   "execution_count": 15,
   "id": "e0102e62",
   "metadata": {},
   "outputs": [],
   "source": [
    "jogos_mandante = mandante.groupby('Ano')['Ano'].count()\n",
    "jogos_mandante = pd.DataFrame(jogos_mandante)\n",
    "jogos_mandante.columns = ['Partidas mandante']\n",
    "jogos_mandante.reset_index(level=0, inplace=True)"
   ]
  },
  {
   "cell_type": "markdown",
   "id": "bb8ef5e5",
   "metadata": {},
   "source": [
    "<b> Dataframe: Número de gols como mandante por ano </b>"
   ]
  },
  {
   "cell_type": "code",
   "execution_count": 16,
   "id": "81dfda60",
   "metadata": {},
   "outputs": [],
   "source": [
    "gols_mandante = mandante.groupby('Ano')['Mandante Gols'].sum()\n",
    "gols_mandante = pd.DataFrame(gols_mandante)\n",
    "gols_mandante.columns = ['Mandante Gols']\n",
    "gols_mandante.reset_index(level=0, inplace=True)"
   ]
  },
  {
   "cell_type": "markdown",
   "id": "fe3734a2",
   "metadata": {},
   "source": [
    "<b> Dataframe: Gols e Partidas como mandante por ano </b>"
   ]
  },
  {
   "cell_type": "code",
   "execution_count": 17,
   "id": "841ccefe",
   "metadata": {},
   "outputs": [],
   "source": [
    "gp_mandante = jogos_mandante.merge(gols_mandante, how='left', on='Ano')"
   ]
  },
  {
   "cell_type": "markdown",
   "id": "9aab3d6c",
   "metadata": {},
   "source": [
    "<b> Nova Coluna: Média de gols como mandante por partida</b>"
   ]
  },
  {
   "cell_type": "code",
   "execution_count": 18,
   "id": "bf9aa3fd",
   "metadata": {},
   "outputs": [],
   "source": [
    "gp_mandante['GP Mandante'] = round(gp_mandante['Mandante Gols']/gp_mandante['Partidas mandante'],2)\n"
   ]
  },
  {
   "cell_type": "markdown",
   "id": "702ee5bb",
   "metadata": {},
   "source": [
    "### 4.2 - Partidas como visitante"
   ]
  },
  {
   "cell_type": "markdown",
   "id": "8bc39a84",
   "metadata": {},
   "source": [
    "<b> Dataframe: Partidas como visitante </b>"
   ]
  },
  {
   "cell_type": "code",
   "execution_count": 19,
   "id": "71ca332e",
   "metadata": {},
   "outputs": [],
   "source": [
    "visitante = df.copy()\n",
    "visitante = visitante.drop(visitante[visitante['Visitante'] != 'Fluminense'].index)"
   ]
  },
  {
   "cell_type": "markdown",
   "id": "ba0e2740",
   "metadata": {},
   "source": [
    "<b> Dataframe: Partidas como visitante por ano </b>"
   ]
  },
  {
   "cell_type": "code",
   "execution_count": 20,
   "id": "365ab311",
   "metadata": {},
   "outputs": [],
   "source": [
    "jogos_visitante = visitante.groupby('Ano')['Ano'].count()\n",
    "jogos_visitante = pd.DataFrame(jogos_visitante)\n",
    "jogos_visitante.columns = ['Partidas visitante']\n",
    "jogos_visitante.reset_index(level=0, inplace=True)"
   ]
  },
  {
   "cell_type": "markdown",
   "id": "e8b05feb",
   "metadata": {},
   "source": [
    "<b> Dataframe: Gols como visitante por ano </b>"
   ]
  },
  {
   "cell_type": "code",
   "execution_count": 21,
   "id": "a540f622",
   "metadata": {},
   "outputs": [],
   "source": [
    "gols_visitante = visitante.groupby('Ano')['Visitante Gols'].sum()\n",
    "gols_visitante = pd.DataFrame(gols_visitante)\n",
    "gols_visitante.columns = ['Visitante Gols']\n",
    "gols_visitante.reset_index(level=0, inplace=True)"
   ]
  },
  {
   "cell_type": "markdown",
   "id": "7d97475a",
   "metadata": {},
   "source": [
    "<b> Dataframe: Gols e Partidas como visitante por ano </b>"
   ]
  },
  {
   "cell_type": "code",
   "execution_count": 22,
   "id": "031f3ef4",
   "metadata": {},
   "outputs": [],
   "source": [
    "gp_visitante = jogos_visitante.merge(gols_visitante, how='left', on='Ano')"
   ]
  },
  {
   "cell_type": "markdown",
   "id": "9eeced31",
   "metadata": {},
   "source": [
    "<b> Nova Coluna: Média de gols como visitante por partida</b>"
   ]
  },
  {
   "cell_type": "code",
   "execution_count": 23,
   "id": "468e4c86",
   "metadata": {},
   "outputs": [],
   "source": [
    "gp_visitante['GP Visitante'] = round(gp_visitante['Visitante Gols']/gp_visitante['Partidas visitante'],2)"
   ]
  },
  {
   "cell_type": "markdown",
   "id": "7b5a35f1",
   "metadata": {},
   "source": [
    "<b> Dataframe: Média de total de gols por partida </b>"
   ]
  },
  {
   "cell_type": "code",
   "execution_count": 24,
   "id": "999dc619",
   "metadata": {},
   "outputs": [],
   "source": [
    "gp_geral = gp_mandante.merge(gp_visitante, how='left', on='Ano')\n",
    "gp_geral['Partidas'] = gp_geral['Partidas mandante'] + gp_geral['Partidas visitante']\n",
    "gp_geral['Gols'] = gp_geral['Mandante Gols'] + gp_geral['Visitante Gols']\n",
    "gp_geral['GP Geral'] = round(gp_geral['Gols']/gp_geral['Partidas'],2)"
   ]
  },
  {
   "cell_type": "markdown",
   "id": "da7af434",
   "metadata": {},
   "source": [
    "### 4.3 - Visualização"
   ]
  },
  {
   "cell_type": "markdown",
   "id": "421ef7fc",
   "metadata": {},
   "source": [
    "<b> Gols por Ano </b>"
   ]
  },
  {
   "cell_type": "code",
   "execution_count": 25,
   "id": "b45b0217",
   "metadata": {},
   "outputs": [
    {
     "data": {
      "image/png": "[encoded data removed]",
      "text/plain": [
       "<Figure size 432x288 with 1 Axes>"
      ]
     },
     "metadata": {
      "needs_background": "light"
     },
     "output_type": "display_data"
    }
   ],
   "source": [
    "r = [0,1,2,3,4,5,6,7,8,9]\n",
    "\n",
    "nomes = ('2003','2004','2005','2006','2007','2008','2009','2010','2011','2012')\n",
    "\n",
    "coluna1 = gp_geral['Gols']\n",
    "\n",
    "# gráfico\n",
    "barWidth = 0.9\n",
    "# Criando a barra de gols marcados\n",
    "plt.bar(r, coluna1, color='green', width=barWidth)\n",
    "\n",
    "# Eixo X\n",
    "plt.xticks(r, nomes)\n",
    "plt.xlabel(\"Anos\")\n",
    "plt.ylabel(\"Gols\")\n",
    "plt.title(\"Gols por Ano\")\n",
    "\n",
    "# Tamanho do gráfico\n",
    "plt.rcParams[\"figure.figsize\"] = [12,6]\n",
    " \n",
    "# Visualizar o gráfico\n",
    "plt.show()"
   ]
  },
  {
   "cell_type": "markdown",
   "id": "60aafd28",
   "metadata": {},
   "source": [
    "<b> Gols marcados por partida </b>"
   ]
  },
  {
   "cell_type": "code",
   "execution_count": 26,
   "id": "ac044aa7",
   "metadata": {},
   "outputs": [
    {
     "data": {
      "image/png": "[encoded data removed]",
      "text/plain": [
       "<Figure size 864x432 with 1 Axes>"
      ]
     },
     "metadata": {
      "needs_background": "light"
     },
     "output_type": "display_data"
    }
   ],
   "source": [
    "coluna1 = gp_geral['GP Geral']\n",
    "\n",
    "# gráfico\n",
    "barWidth = 0.9\n",
    "# Criando a barra de gols marcados por partida\n",
    "plt.bar(r, coluna1, color='firebrick', width=barWidth)\n",
    "\n",
    "# Eixo X\n",
    "plt.xticks(r, nomes)\n",
    "plt.xlabel(\"Anos\")\n",
    "plt.ylabel(\"Gols\")\n",
    "plt.title(\"Gols por Partida\")\n",
    "\n",
    "# Tamanho do gráfico\n",
    "plt.rcParams[\"figure.figsize\"] = [12,6]\n",
    " \n",
    "# Visualizar o gráfico\n",
    "plt.show()\n"
   ]
  },
  {
   "cell_type": "markdown",
   "id": "2d3657fa",
   "metadata": {},
   "source": [
    "<b> Gols Em Casa x Fora de Casa </b>"
   ]
  },
  {
   "cell_type": "code",
   "execution_count": 27,
   "id": "e9453aed",
   "metadata": {},
   "outputs": [
    {
     "data": {
      "image/png": "[encoded data removed]",
      "text/plain": [
       "<Figure size 864x432 with 1 Axes>"
      ]
     },
     "metadata": {
      "needs_background": "light"
     },
     "output_type": "display_data"
    }
   ],
   "source": [
    "coluna1 = gp_geral['Mandante Gols']/gp_geral['Gols']\n",
    "coluna2 = gp_geral['Visitante Gols']/gp_geral['Gols']\n",
    "\n",
    "# gráfico\n",
    "barWidth = 0.9\n",
    "# Criando a barra de gols em casa\n",
    "plt.bar(r, coluna1, color='green', edgecolor='white', width=barWidth,label='Gols em Casa')\n",
    "# Criando a barra de gols fora de casa\n",
    "plt.bar(r, coluna2, bottom=coluna1, color='firebrick', edgecolor='white', width=barWidth,label='Gols Fora')\n",
    "\n",
    "# Eixo X\n",
    "plt.xticks(r, nomes)\n",
    "plt.xlabel(\"Anos\")\n",
    "plt.ylabel(\"Proporção\")\n",
    "plt.title(\"Dist. de gols em casa e fora\")\n",
    " \n",
    "plt.rcParams[\"figure.figsize\"] = [12,6]\n",
    "    \n",
    "# Visualizar o gráfico\n",
    "plt.legend()\n",
    "plt.show()"
   ]
  },
  {
   "cell_type": "markdown",
   "id": "3fdaea85",
   "metadata": {},
   "source": [
    "### 4.4 - Médias"
   ]
  },
  {
   "cell_type": "code",
   "execution_count": 28,
   "id": "43523c63",
   "metadata": {},
   "outputs": [
    {
     "name": "stdout",
     "output_type": "stream",
     "text": [
      "O Fluminense teve uma média de 1.5 gols por partida\n",
      "Em casa, o Fluminense teve uma média de 1.6 gols por partida\n",
      "Fora de casa, o Fluminense teve uma média de 1.3 gols por partida\n"
     ]
    }
   ],
   "source": [
    "# Gols por jogo\n",
    "gols = gp_geral['Gols'].sum()\n",
    "partidas =  gp_geral['Partidas'].sum()\n",
    "gols_partida = gols/partidas\n",
    "print(\"O Fluminense teve uma média de \"+str(round(gols_partida,1))+ \" gols por partida\")\n",
    "\n",
    "# Gols por jogo em casa\n",
    "gols_casa = gp_geral['Mandante Gols'].sum()\n",
    "partidas_casa =  gp_geral['Partidas mandante'].sum()\n",
    "gols_partida_casa = gols_casa/partidas_casa\n",
    "print(\"Em casa, o Fluminense teve uma média de \"+str(round(gols_partida_casa,1))+ \" gols por partida\")\n",
    "\n",
    "# Gols por jogo fora de casa\n",
    "gols_fora = gp_geral['Visitante Gols'].sum()\n",
    "partidas_fora =  gp_geral['Partidas visitante'].sum()\n",
    "gols_partida_fora = gols_fora/partidas_fora\n",
    "print(\"Fora de casa, o Fluminense teve uma média de \"+str(round(gols_partida_fora,1))+ \" gols por partida\")"
   ]
  },
  {
   "cell_type": "markdown",
   "id": "a79e491a",
   "metadata": {},
   "source": [
    "## 5.0 - KPI: Resultados"
   ]
  },
  {
   "cell_type": "markdown",
   "id": "6b035686",
   "metadata": {},
   "source": [
    "### 5.1 - Partidas como mandante"
   ]
  },
  {
   "cell_type": "markdown",
   "id": "62e88cf4",
   "metadata": {},
   "source": [
    "<b> Dataframes: Total de Vitórias"
   ]
  },
  {
   "cell_type": "code",
   "execution_count": 29,
   "id": "ef4cdd60",
   "metadata": {},
   "outputs": [],
   "source": [
    "vitorias_casa=mandante.groupby('Ano')['Vencedor'].apply(lambda x: (x=='Fluminense').sum()).reset_index(name='Vitórias')"
   ]
  },
  {
   "cell_type": "markdown",
   "id": "aa742dd3",
   "metadata": {},
   "source": [
    "<b> Dataframes: Total de Empates"
   ]
  },
  {
   "cell_type": "code",
   "execution_count": 30,
   "id": "f381b104",
   "metadata": {},
   "outputs": [],
   "source": [
    "empates_casa=mandante.groupby('Ano')['Vencedor'].apply(lambda x: (x=='Empate').sum()).reset_index(name='Empates')"
   ]
  },
  {
   "cell_type": "markdown",
   "id": "d54ee28c",
   "metadata": {},
   "source": [
    "<b> Dataframes: Vitórias + Empates"
   ]
  },
  {
   "cell_type": "code",
   "execution_count": 31,
   "id": "054f68f7",
   "metadata": {},
   "outputs": [],
   "source": [
    "resultado_casa = jogos_mandante.merge(vitorias_casa, how='left', on='Ano')\n",
    "resultado_casa = resultado_casa.merge(empates_casa, how='left', on='Ano')"
   ]
  },
  {
   "cell_type": "markdown",
   "id": "2ef5f9c8",
   "metadata": {},
   "source": [
    "<b> Renomeando coluna </b>"
   ]
  },
  {
   "cell_type": "code",
   "execution_count": 32,
   "id": "d75e7780",
   "metadata": {},
   "outputs": [],
   "source": [
    "resultado_casa = resultado_casa.rename(columns={\"Partidas mandante\":\"Jogos\"})"
   ]
  },
  {
   "cell_type": "markdown",
   "id": "983d0bac",
   "metadata": {},
   "source": [
    "<b> Nova Coluna: Total de Derrotas</b>"
   ]
  },
  {
   "cell_type": "code",
   "execution_count": 33,
   "id": "f99d8269",
   "metadata": {},
   "outputs": [],
   "source": [
    "resultado_casa['Derrotas']= resultado_casa['Jogos'] - resultado_casa['Vitórias']-resultado_casa['Empates']"
   ]
  },
  {
   "cell_type": "markdown",
   "id": "61ecca9f",
   "metadata": {},
   "source": [
    "#### Distribuição de resultados em casa"
   ]
  },
  {
   "cell_type": "code",
   "execution_count": 34,
   "id": "cf175c54",
   "metadata": {},
   "outputs": [
    {
     "data": {
      "image/png": "[encoded data removed]",
      "text/plain": [
       "<Figure size 864x432 with 1 Axes>"
      ]
     },
     "metadata": {
      "needs_background": "light"
     },
     "output_type": "display_data"
    }
   ],
   "source": [
    "coluna1 = resultado_casa['Vitórias']/resultado_casa['Jogos']\n",
    "coluna2 = resultado_casa['Empates']/resultado_casa['Jogos']\n",
    "coluna3 = resultado_casa['Derrotas']/resultado_casa['Jogos']\n",
    "\n",
    "# gráfico\n",
    "barWidth = 0.9\n",
    "# Criando a barra de vitórias\n",
    "plt.bar(r, coluna1, color='green', edgecolor='white', width=barWidth,label='Vitórias')\n",
    "# Criando a barra de empates\n",
    "plt.bar(r, coluna2, bottom=coluna1, color='white', edgecolor='lightgray', width=barWidth,label='Empates')\n",
    "# Criando a barra de derrotas\n",
    "plt.bar(r, coluna3, bottom=[i+j for i,j in zip(coluna1, coluna2)], color='firebrick', edgecolor='lightgray',\n",
    "        width=barWidth,label='Derrotas')\n",
    "\n",
    "# Eixo X\n",
    "plt.xticks(r, nomes)\n",
    "plt.xlabel(\"Anos\")\n",
    "plt.ylabel(\"Proporção\")\n",
    "plt.title(\"Dist. de resultados em casa\")\n",
    " \n",
    "# Visualizar o gráfico\n",
    "plt.legend()\n",
    "plt.show()"
   ]
  },
  {
   "cell_type": "markdown",
   "id": "93886ef2",
   "metadata": {},
   "source": [
    "### 5.2 - Aproveitamento como mandante"
   ]
  },
  {
   "cell_type": "code",
   "execution_count": 35,
   "id": "8bf1a0ac",
   "metadata": {},
   "outputs": [
    {
     "name": "stdout",
     "output_type": "stream",
     "text": [
      "    Ano  Jogos  Vitórias  Empates  Derrotas  % Aprov.\n",
      "0  2003     23        11        7         5      0.58\n",
      "1  2004     23        12        7         4      0.62\n",
      "2  2005     21        11        4         6      0.59\n",
      "3  2006     19         7        6         6      0.47\n",
      "4  2007     19         8        8         3      0.56\n",
      "5  2008     19         7        6         6      0.47\n",
      "6  2009     19         8        7         4      0.54\n",
      "7  2010     19        12        5         2      0.72\n",
      "8  2011     19        12        0         7      0.63\n",
      "9  2012     19        11        5         3      0.67\n"
     ]
    }
   ],
   "source": [
    "resultado_casa['% Aprov.']= round((3*resultado_casa['Vitórias']+resultado_casa['Empates'])/(3*resultado_casa['Jogos']),2)\n",
    "print(resultado_casa)"
   ]
  },
  {
   "cell_type": "markdown",
   "id": "a63eef6c",
   "metadata": {},
   "source": [
    "#### Visualização"
   ]
  },
  {
   "cell_type": "code",
   "execution_count": 36,
   "id": "2e730b10",
   "metadata": {
    "scrolled": false
   },
   "outputs": [
    {
     "data": {
      "image/png": "[encoded data removed]",
      "text/plain": [
       "<Figure size 864x432 with 1 Axes>"
      ]
     },
     "metadata": {
      "needs_background": "light"
     },
     "output_type": "display_data"
    }
   ],
   "source": [
    "coluna1 = resultado_casa['% Aprov.']\n",
    "\n",
    "# gráfico\n",
    "barWidth = 0.9\n",
    "# Criando a barra de aproveitamento\n",
    "plt.bar(r, coluna1, color='green', width=barWidth)\n",
    "\n",
    "# Eixo X\n",
    "plt.xticks(r, nomes)\n",
    "plt.xlabel(\"Anos\")\n",
    "plt.ylabel(\"Aproveitamento\")\n",
    "plt.title(\"Aproveitamento em casa\")\n",
    "\n",
    "plt.rcParams[\"figure.figsize\"] = [12,6]\n",
    " \n",
    "# Visualizar o gráfico\n",
    "plt.show()"
   ]
  },
  {
   "cell_type": "markdown",
   "id": "fc73623b",
   "metadata": {},
   "source": [
    "### 5.3 - Partidas como visitante"
   ]
  },
  {
   "cell_type": "markdown",
   "id": "3f8ae82a",
   "metadata": {},
   "source": [
    "#### Dataframes: Total de Vitórias"
   ]
  },
  {
   "cell_type": "code",
   "execution_count": 37,
   "id": "30901690",
   "metadata": {},
   "outputs": [],
   "source": [
    "vitorias_fora=visitante.groupby('Ano')['Vencedor'].apply(lambda x: (x=='Fluminense').sum()).reset_index(name='Vitórias')"
   ]
  },
  {
   "cell_type": "markdown",
   "id": "258ef658",
   "metadata": {},
   "source": [
    "#### Dataframes: Total de Empates"
   ]
  },
  {
   "cell_type": "code",
   "execution_count": 38,
   "id": "f8a2c915",
   "metadata": {},
   "outputs": [],
   "source": [
    "empates_fora=visitante.groupby('Ano')['Vencedor'].apply(lambda x: (x=='Empate').sum()).reset_index(name='Empates')"
   ]
  },
  {
   "cell_type": "markdown",
   "id": "68e0b9d8",
   "metadata": {},
   "source": [
    "#### Dataframes: Vitórias + Empates"
   ]
  },
  {
   "cell_type": "code",
   "execution_count": 39,
   "id": "8cf92a39",
   "metadata": {},
   "outputs": [],
   "source": [
    "resultado_fora = jogos_visitante.merge(vitorias_fora, how='left', on='Ano')\n",
    "resultado_fora = resultado_fora.merge(empates_fora, how='left', on='Ano')"
   ]
  },
  {
   "cell_type": "markdown",
   "id": "3b7d687c",
   "metadata": {},
   "source": [
    "#### Renomeando coluna"
   ]
  },
  {
   "cell_type": "code",
   "execution_count": 40,
   "id": "66db8c0a",
   "metadata": {},
   "outputs": [],
   "source": [
    "resultado_fora = resultado_fora.rename(columns={\"Partidas visitante\":\"Jogos\"})"
   ]
  },
  {
   "cell_type": "markdown",
   "id": "7b7f076f",
   "metadata": {},
   "source": [
    "#### Dataframes: Total de Derrotas"
   ]
  },
  {
   "cell_type": "code",
   "execution_count": 41,
   "id": "8cbe6c61",
   "metadata": {},
   "outputs": [],
   "source": [
    "resultado_fora['Derrotas']= resultado_fora['Jogos'] - resultado_fora['Vitórias']-resultado_fora['Empates']"
   ]
  },
  {
   "cell_type": "markdown",
   "id": "88edddfa",
   "metadata": {},
   "source": [
    "#### Distribuição de resultados fora de casa"
   ]
  },
  {
   "cell_type": "code",
   "execution_count": 42,
   "id": "eaf8cf17",
   "metadata": {},
   "outputs": [
    {
     "data": {
      "text/plain": [
       "<matplotlib.legend.Legend at 0x1cd423b55a0>"
      ]
     },
     "execution_count": 42,
     "metadata": {},
     "output_type": "execute_result"
    },
    {
     "data": {
      "image/png": "[encoded data removed]",
      "text/plain": [
       "<Figure size 864x432 with 1 Axes>"
      ]
     },
     "metadata": {
      "needs_background": "light"
     },
     "output_type": "display_data"
    }
   ],
   "source": [
    "coluna1 = resultado_fora['Vitórias']/resultado_fora['Jogos']\n",
    "coluna2 = resultado_fora['Empates']/resultado_fora['Jogos']\n",
    "coluna3 = resultado_fora['Derrotas']/resultado_fora['Jogos']\n",
    "\n",
    "# gráfico\n",
    "barWidth = 0.9\n",
    "# Criando a barra de vitórias\n",
    "plt.bar(r, coluna1, color='green', edgecolor='lightgray', width=barWidth,label='Vitórias')\n",
    "# Criando a barra de empates\n",
    "plt.bar(r, coluna2, bottom=coluna1, color='white', edgecolor='lightgray', width=barWidth,label='Empates')\n",
    "# Criando a barra de derrotas\n",
    "plt.bar(r, coluna3, bottom=[i+j for i,j in zip(coluna1, coluna2)], color='firebrick', edgecolor='lightgray',\n",
    "        width=barWidth,label='Derrotas')\n",
    "\n",
    "# Eixo X\n",
    "plt.xticks(r, nomes)\n",
    "plt.xlabel(\"Anos\")\n",
    "plt.ylabel(\"Proporção\")\n",
    "plt.title(\"Dist. de resultados fora de casa\")\n",
    " \n",
    "# Visualizar o gráfico\n",
    "plt.legend()"
   ]
  },
  {
   "cell_type": "markdown",
   "id": "ab7940fd",
   "metadata": {},
   "source": [
    "### 5.4 - Aproveitamento como visitante"
   ]
  },
  {
   "cell_type": "code",
   "execution_count": 43,
   "id": "44fcdf7e",
   "metadata": {},
   "outputs": [
    {
     "name": "stdout",
     "output_type": "stream",
     "text": [
      "    Ano  Jogos  Vitórias  Empates  Derrotas  % Aprov.\n",
      "0  2003     23         2        4        17      0.14\n",
      "1  2004     23         6        6        11      0.35\n",
      "2  2005     21         8        7         6      0.49\n",
      "3  2006     19         4        6         9      0.32\n",
      "4  2007     19         8        5         6      0.51\n",
      "5  2008     19         4        6         9      0.32\n",
      "6  2009     19         3        6        10      0.26\n",
      "7  2010     19         8        6         5      0.53\n",
      "8  2011     19         8        3         8      0.47\n",
      "9  2012     19        11        6         2      0.68\n"
     ]
    }
   ],
   "source": [
    "resultado_fora['% Aprov.']= round((3*resultado_fora['Vitórias']+resultado_fora['Empates'])/(3*resultado_fora['Jogos']),2)\n",
    "print(resultado_fora)"
   ]
  },
  {
   "cell_type": "markdown",
   "id": "b20def76",
   "metadata": {},
   "source": [
    "#### Visualização"
   ]
  },
  {
   "cell_type": "code",
   "execution_count": 44,
   "id": "38802c93",
   "metadata": {},
   "outputs": [
    {
     "data": {
      "image/png": "[encoded data removed]",
      "text/plain": [
       "<Figure size 864x432 with 1 Axes>"
      ]
     },
     "metadata": {
      "needs_background": "light"
     },
     "output_type": "display_data"
    }
   ],
   "source": [
    "# gráfico\n",
    "barWidth = 0.9\n",
    "# Criando a barra de aproveitamento\n",
    "plt.bar(r, coluna1, color='green', width=barWidth)\n",
    "\n",
    "# Eixo X\n",
    "plt.xticks(r, nomes)\n",
    "plt.xlabel(\"Anos\")\n",
    "plt.ylabel(\"Aproveitamento\")\n",
    "plt.title(\"Aproveitamento fora de casa\")\n",
    "\n",
    "plt.rcParams[\"figure.figsize\"] = [12,6]\n",
    " \n",
    "# Visualizar o gráfico\n",
    "plt.show()"
   ]
  },
  {
   "cell_type": "markdown",
   "id": "981bc0af",
   "metadata": {},
   "source": [
    "### 5.5 - Total de Partidas"
   ]
  },
  {
   "cell_type": "markdown",
   "id": "f238100b",
   "metadata": {},
   "source": [
    "#### Dataframes: Resultado como Mandante + Resultados como Visitante"
   ]
  },
  {
   "cell_type": "code",
   "execution_count": 45,
   "id": "e09370ef",
   "metadata": {},
   "outputs": [],
   "source": [
    "# Deletar colunas de aproveitamento\n",
    "resultado_casa = resultado_casa.drop(['% Aprov.'], axis = 1)\n",
    "resultado_fora = resultado_fora.drop(['% Aprov.'], axis = 1)\n",
    "\n",
    "# Deletar coluna repetida\n",
    "resultado_casa = resultado_casa.drop(['Jogos'], axis = 1)\n",
    "resultado_fora = resultado_fora.drop(['Jogos'], axis = 1)\n",
    "\n",
    "# Renomear colunas\n",
    "resultado_casa = resultado_casa.rename(columns={\"Vitórias\":\"Vit casa\",\"Empates\":\"Emp casa\",\"Derrotas\":\"Der casa\"})\n",
    "resultado_fora = resultado_fora.rename(columns={\"Vitórias\":\"Vit fora\",\"Empates\":\"Emp fora\",\"Derrotas\":\"Der fora\"})\n",
    "\n",
    "# Juntar dataframes\n",
    "resultado = jogos.merge(resultado_casa, how='left', on='Ano')\n",
    "resultado = resultado.merge(resultado_fora, how='left', on='Ano')\n",
    "\n",
    "# Coluna de Pontos\n",
    "resultado['Pts'] = 3*(resultado['Vit casa']+resultado['Vit fora'])+resultado['Emp casa']+resultado['Emp fora']\n",
    "\n",
    "# Coluna com a proporção de pontos conquistados em casa\n",
    "resultado['% Pts casa']= round((3*resultado['Vit casa']+resultado['Emp casa'])/resultado['Pts'],2)\n",
    "\n",
    "# Coluna com a proporção de pontos conquistados fora de casa\n",
    "resultado['% Pts fora']= round((3*resultado['Vit fora']+resultado['Emp fora'])/resultado['Pts'],2)\n",
    "\n",
    "resultado['Vit'] = resultado['Vit casa'] + resultado['Vit fora']\n",
    "resultado['Der'] = resultado['Der casa'] + resultado['Der fora']\n",
    "resultado['Emp'] = resultado['Emp casa'] + resultado['Emp fora']"
   ]
  },
  {
   "cell_type": "markdown",
   "id": "4af8db0c",
   "metadata": {},
   "source": [
    "#### Distribuição de resultados"
   ]
  },
  {
   "cell_type": "code",
   "execution_count": 46,
   "id": "85ac92c1",
   "metadata": {},
   "outputs": [
    {
     "data": {
      "image/png": "[encoded data removed]",
      "text/plain": [
       "<Figure size 864x432 with 1 Axes>"
      ]
     },
     "metadata": {
      "needs_background": "light"
     },
     "output_type": "display_data"
    }
   ],
   "source": [
    "coluna1 = resultado['Vit']/resultado['Jogos']\n",
    "coluna2 = resultado['Emp']/resultado['Jogos']\n",
    "coluna3 = resultado['Der']/resultado['Jogos']\n",
    "\n",
    "# gráfico\n",
    "barWidth = 0.9\n",
    "# Criando a barra de vitórias\n",
    "plt.bar(r, coluna1, color='green', edgecolor='lightgray', width=barWidth,label='Vitórias')\n",
    "# Criando a barra de empates\n",
    "plt.bar(r, coluna2, bottom=coluna1, color='white', edgecolor='lightgray', width=barWidth,label='Empates')\n",
    "# Criando a barra de derrotas\n",
    "plt.bar(r, coluna3, bottom=[i+j for i,j in zip(coluna1, coluna2)], color='firebrick', edgecolor='lightgray',\n",
    "        width=barWidth,label='Derrotas')\n",
    "\n",
    "# Eixo X\n",
    "plt.xticks(r, nomes)\n",
    "plt.xlabel(\"Anos\")\n",
    "plt.ylabel(\"Proporção\")\n",
    "plt.title(\"Dist. de resultados\")\n",
    " \n",
    "# Visualizar o gráfico\n",
    "plt.legend()\n",
    "plt.show()"
   ]
  },
  {
   "cell_type": "markdown",
   "id": "87d1866d",
   "metadata": {},
   "source": [
    "#### Aproveitamento de Pontos"
   ]
  },
  {
   "cell_type": "code",
   "execution_count": 47,
   "id": "a9a7495b",
   "metadata": {},
   "outputs": [
    {
     "data": {
      "image/png": "[encoded data removed]",
      "text/plain": [
       "<Figure size 864x432 with 1 Axes>"
      ]
     },
     "metadata": {
      "needs_background": "light"
     },
     "output_type": "display_data"
    }
   ],
   "source": [
    "resultado['% Aprov.']= round((3*resultado['Vit']+resultado['Emp'])/(3*resultado['Jogos']),2)\n",
    "\n",
    "coluna1 = resultado['% Aprov.']\n",
    "\n",
    "# gráfico\n",
    "barWidth = 0.9\n",
    "# Criando a barra de aproveitamento\n",
    "plt.bar(r, coluna1, color='green', width=barWidth)\n",
    "\n",
    "# Eixo X\n",
    "plt.xticks(r, nomes)\n",
    "plt.xlabel(\"Anos\")\n",
    "plt.ylabel(\"Aproveitamento\")\n",
    "plt.title(\"Aproveitamento de pontos\")\n",
    "\n",
    "plt.rcParams[\"figure.figsize\"] = [12,6]\n",
    " \n",
    "# Visualizar o gráfico\n",
    "plt.show()"
   ]
  },
  {
   "cell_type": "markdown",
   "id": "433230a9",
   "metadata": {},
   "source": [
    "#### Evolução de pontos conquistados"
   ]
  },
  {
   "cell_type": "code",
   "execution_count": 49,
   "id": "066b05ee",
   "metadata": {},
   "outputs": [
    {
     "data": {
      "image/png": "[encoded data removed]",
      "text/plain": [
       "<Figure size 864x432 with 1 Axes>"
      ]
     },
     "metadata": {
      "needs_background": "light"
     },
     "output_type": "display_data"
    }
   ],
   "source": [
    "coluna1 = resultado['Pts']\n",
    "\n",
    "# gráfico\n",
    "barWidth = 0.9\n",
    "# Criando a barra de pontos conquistados\n",
    "plt.bar(r, coluna1, color='green', width=barWidth)\n",
    "\n",
    "# Eixo X\n",
    "plt.xticks(r, nomes)\n",
    "plt.xlabel(\"Anos\")\n",
    "plt.ylabel(\"Pontos\")\n",
    "plt.title(\"Pontos Conquistados\")\n",
    "\n",
    "plt.rcParams[\"figure.figsize\"] = [12,6]\n",
    " \n",
    "# Visualizar o gráfico\n",
    "plt.show()"
   ]
  },
  {
   "cell_type": "markdown",
   "id": "34d1efc5",
   "metadata": {},
   "source": [
    "#### Distribuição de pontos conquistados em cada e fora de casa"
   ]
  },
  {
   "cell_type": "code",
   "execution_count": 48,
   "id": "0250431d",
   "metadata": {},
   "outputs": [
    {
     "data": {
      "image/png": "[encoded data removed]",
      "text/plain": [
       "<Figure size 864x432 with 1 Axes>"
      ]
     },
     "metadata": {
      "needs_background": "light"
     },
     "output_type": "display_data"
    }
   ],
   "source": [
    "coluna1 = resultado['% Pts casa']\n",
    "coluna2 = resultado['% Pts fora']\n",
    "\n",
    "# gráfico\n",
    "barWidth = 0.9\n",
    "# Criando a barra de pontos conquistados em casa\n",
    "plt.bar(r, coluna1, color='green', edgecolor='white', width=barWidth,label='% Pts Casa')\n",
    "# Criando a barra de pontos conquistados fora de casa\n",
    "plt.bar(r, coluna2, bottom=coluna1, color='firebrick', edgecolor='white', width=barWidth,label='% Pts Fora')\n",
    "\n",
    "# Eixo X\n",
    "plt.xticks(r, nomes)\n",
    "plt.xlabel(\"Anos\")\n",
    "plt.ylabel(\"Proporção\")\n",
    "plt.title(\"Dist. de pontos conquistados em casa e fora\")\n",
    " \n",
    "plt.rcParams[\"figure.figsize\"] = [12,6]\n",
    "    \n",
    "# Visualizar o gráfico\n",
    "plt.legend()\n",
    "plt.show()"
   ]
  },
  {
   "cell_type": "markdown",
   "id": "663eec23",
   "metadata": {},
   "source": [
    "## 6.0 - KPI: Confrontos"
   ]
  },
  {
   "cell_type": "markdown",
   "id": "0f049146",
   "metadata": {},
   "source": [
    "### 6.1 - Times que mais venceram o Fluminense"
   ]
  },
  {
   "cell_type": "markdown",
   "id": "730b2d10",
   "metadata": {},
   "source": [
    "#### Vitórias por adversário"
   ]
  },
  {
   "cell_type": "code",
   "execution_count": 50,
   "id": "6a744912",
   "metadata": {},
   "outputs": [],
   "source": [
    "adversarios_vit = df.groupby('Vencedor')['Vencedor'].count()\n",
    "adversarios_vit = pd.DataFrame(adversarios_vit)\n",
    "adversarios_vit.columns = ['Vitórias']\n",
    "adversarios_vit.reset_index(level=0, inplace=True)"
   ]
  },
  {
   "cell_type": "markdown",
   "id": "6b636fd4",
   "metadata": {},
   "source": [
    "#### Remover dados referente aos jogos que o Fluminense ganhou ou empatou"
   ]
  },
  {
   "cell_type": "code",
   "execution_count": 52,
   "id": "b7b19622",
   "metadata": {},
   "outputs": [],
   "source": [
    "adversarios_vit = adversarios_vit.drop(adversarios_vit[(adversarios_vit['Vencedor'] == 'Fluminense')].index)\n",
    "adversarios_vit = adversarios_vit.drop(adversarios_vit[(adversarios_vit['Vencedor'] == 'Empate')].index)"
   ]
  },
  {
   "cell_type": "markdown",
   "id": "eaee7807",
   "metadata": {},
   "source": [
    "#### Classificar em Ordem Decrescente"
   ]
  },
  {
   "cell_type": "code",
   "execution_count": 53,
   "id": "7fd59bd9",
   "metadata": {},
   "outputs": [],
   "source": [
    "adversarios_vit.sort_values(by=['Vitórias'], inplace=True, ascending=False)"
   ]
  },
  {
   "cell_type": "markdown",
   "id": "39dd326c",
   "metadata": {},
   "source": [
    "#### Visualização"
   ]
  },
  {
   "cell_type": "code",
   "execution_count": 54,
   "id": "f9156dea",
   "metadata": {},
   "outputs": [
    {
     "data": {
      "image/png": "[encoded data removed]",
      "text/plain": [
       "<Figure size 720x720 with 1 Axes>"
      ]
     },
     "metadata": {
      "needs_background": "light"
     },
     "output_type": "display_data"
    }
   ],
   "source": [
    "ax = adversarios_vit.plot.barh(x='Vencedor', y='Vitórias',color ='firebrick',figsize=(10,10))"
   ]
  },
  {
   "cell_type": "markdown",
   "id": "64fa27b5",
   "metadata": {},
   "source": [
    "### 6.2 - Times que mais fizeram gol no Fluminense"
   ]
  },
  {
   "cell_type": "markdown",
   "id": "8af6ec5c",
   "metadata": {},
   "source": [
    "#### Adversários que fizeram gols como visitante"
   ]
  },
  {
   "cell_type": "code",
   "execution_count": 55,
   "id": "b4559f16",
   "metadata": {},
   "outputs": [],
   "source": [
    "gols_adversarios_casa = mandante.groupby('Visitante')['Visitante Gols'].sum()\n",
    "gols_adversarios_casa = pd.DataFrame(gols_adversarios_casa)\n",
    "gols_adversarios_casa.columns = ['Gols Casa']\n",
    "gols_adversarios_casa.reset_index(level=0, inplace=True)\n",
    "gols_adversarios_casa.columns = ['Time','Gols Casa']"
   ]
  },
  {
   "cell_type": "markdown",
   "id": "903a8f96",
   "metadata": {},
   "source": [
    "#### Adversários que fizeram gols como mandante"
   ]
  },
  {
   "cell_type": "code",
   "execution_count": 56,
   "id": "ad3d11db",
   "metadata": {},
   "outputs": [],
   "source": [
    "gols_adversarios_fora = visitante.groupby('Mandante')['Mandante Gols'].sum()\n",
    "gols_adversarios_fora = pd.DataFrame(gols_adversarios_fora)\n",
    "gols_adversarios_fora.columns = ['Gols Fora']\n",
    "gols_adversarios_fora.reset_index(level=0, inplace=True)\n",
    "gols_adversarios_fora.columns = ['Time','Gols Fora']\n"
   ]
  },
  {
   "cell_type": "markdown",
   "id": "7d321bf8",
   "metadata": {},
   "source": [
    "#### Total de gols"
   ]
  },
  {
   "cell_type": "code",
   "execution_count": 57,
   "id": "b9fccb57",
   "metadata": {},
   "outputs": [],
   "source": [
    "gols_adversarios = gols_adversarios_casa.merge(gols_adversarios_fora, how='left', on='Time')"
   ]
  },
  {
   "cell_type": "code",
   "execution_count": 58,
   "id": "1763dbed",
   "metadata": {},
   "outputs": [],
   "source": [
    "gols_adversarios['Gols'] = gols_adversarios['Gols Casa'] + gols_adversarios['Gols Fora']"
   ]
  },
  {
   "cell_type": "markdown",
   "id": "9ea4f53b",
   "metadata": {},
   "source": [
    "#### Classificando em Ordem Decrescente"
   ]
  },
  {
   "cell_type": "code",
   "execution_count": 59,
   "id": "b2265ea7",
   "metadata": {},
   "outputs": [],
   "source": [
    "gols_adversarios.sort_values(by=['Gols'], inplace=True, ascending=False)"
   ]
  },
  {
   "cell_type": "markdown",
   "id": "f37f2e03",
   "metadata": {},
   "source": [
    "#### Visualização"
   ]
  },
  {
   "cell_type": "code",
   "execution_count": 60,
   "id": "ff3719b2",
   "metadata": {},
   "outputs": [
    {
     "data": {
      "image/png": "[encoded data removed]",
      "text/plain": [
       "<Figure size 720x720 with 1 Axes>"
      ]
     },
     "metadata": {
      "needs_background": "light"
     },
     "output_type": "display_data"
    }
   ],
   "source": [
    "ax = gols_adversarios.plot.barh(x='Time', y='Gols',color ='firebrick',figsize=(10,10))"
   ]
  },
  {
   "cell_type": "markdown",
   "id": "bb5637d8",
   "metadata": {},
   "source": [
    "### 6.3 - Times que mais perderam para o Fluminense"
   ]
  },
  {
   "cell_type": "markdown",
   "id": "33a4531c",
   "metadata": {},
   "source": [
    "#### Criando um novo Dataframe"
   ]
  },
  {
   "cell_type": "code",
   "execution_count": 61,
   "id": "13e2243c",
   "metadata": {},
   "outputs": [],
   "source": [
    "perdedores = df.copy()"
   ]
  },
  {
   "cell_type": "markdown",
   "id": "59f67dea",
   "metadata": {},
   "source": [
    "#### Criando a coluna de perdedores"
   ]
  },
  {
   "cell_type": "code",
   "execution_count": 62,
   "id": "79e73cf1",
   "metadata": {},
   "outputs": [],
   "source": [
    "condicoes = [(perdedores['Mandante'] == perdedores['Vencedor']),(perdedores['Visitante'] == perdedores['Vencedor'])]\n",
    "valores = [perdedores['Visitante'], perdedores['Mandante']]\n",
    "perdedores['Perdedor'] = np.select(condicoes, valores, default='Empate')"
   ]
  },
  {
   "cell_type": "markdown",
   "id": "56e2e85d",
   "metadata": {},
   "source": [
    "#### Contar o número de vitórias do Fluminense sobre cada adversário"
   ]
  },
  {
   "cell_type": "code",
   "execution_count": 63,
   "id": "8cb9cbdf",
   "metadata": {},
   "outputs": [],
   "source": [
    "fluminense_vit = perdedores.groupby('Perdedor')['Perdedor'].count()\n",
    "fluminense_vit = pd.DataFrame(fluminense_vit)\n",
    "fluminense_vit.columns = ['Vitórias']\n",
    "fluminense_vit.reset_index(level=0, inplace=True)"
   ]
  },
  {
   "cell_type": "markdown",
   "id": "7e46e926",
   "metadata": {},
   "source": [
    "#### Remover dados referente as derrotas e empates do Fluminense"
   ]
  },
  {
   "cell_type": "code",
   "execution_count": 64,
   "id": "f7abb563",
   "metadata": {},
   "outputs": [],
   "source": [
    "fluminense_vit = fluminense_vit.drop(fluminense_vit[(fluminense_vit['Perdedor'] == 'Fluminense')].index)\n",
    "fluminense_vit = fluminense_vit.drop(fluminense_vit[(fluminense_vit['Perdedor'] == 'Empate')].index)"
   ]
  },
  {
   "cell_type": "markdown",
   "id": "abe73338",
   "metadata": {},
   "source": [
    "#### Classificar em Ordem Decrescente"
   ]
  },
  {
   "cell_type": "code",
   "execution_count": 65,
   "id": "a2f24f90",
   "metadata": {},
   "outputs": [],
   "source": [
    "fluminense_vit.sort_values(by=['Vitórias'], inplace=True, ascending=False)"
   ]
  },
  {
   "cell_type": "markdown",
   "id": "f86fa234",
   "metadata": {},
   "source": [
    "#### Visualização"
   ]
  },
  {
   "cell_type": "code",
   "execution_count": 66,
   "id": "69e89805",
   "metadata": {},
   "outputs": [
    {
     "data": {
      "image/png": "[encoded data removed]",
      "text/plain": [
       "<Figure size 720x720 with 1 Axes>"
      ]
     },
     "metadata": {
      "needs_background": "light"
     },
     "output_type": "display_data"
    }
   ],
   "source": [
    "ax = fluminense_vit.plot.barh(x='Perdedor', y='Vitórias',color ='green',figsize=(10,10))"
   ]
  },
  {
   "cell_type": "markdown",
   "id": "23780161",
   "metadata": {},
   "source": [
    "### 6.4 - Times que mais levaram gol do Fluminense"
   ]
  },
  {
   "cell_type": "markdown",
   "id": "95ff1188",
   "metadata": {},
   "source": [
    "#### Adversários que tomaram gol como visitante"
   ]
  },
  {
   "cell_type": "code",
   "execution_count": 68,
   "id": "b589c24d",
   "metadata": {},
   "outputs": [],
   "source": [
    "gols_fluminense_casa = mandante.groupby('Visitante')['Mandante Gols'].sum()\n",
    "gols_fluminense_casa = pd.DataFrame(gols_fluminense_casa)\n",
    "gols_fluminense_casa.columns = ['Gols Fluminense Casa']\n",
    "gols_fluminense_casa.reset_index(level=0, inplace=True)\n",
    "gols_fluminense_casa.columns = ['Time','Gols Fluminense Casa']"
   ]
  },
  {
   "cell_type": "markdown",
   "id": "d70f757e",
   "metadata": {},
   "source": [
    "#### Adversários que tomaram gol como mandante"
   ]
  },
  {
   "cell_type": "code",
   "execution_count": 70,
   "id": "393b07b5",
   "metadata": {},
   "outputs": [],
   "source": [
    "gols_fluminense_fora = visitante.groupby('Mandante')['Visitante Gols'].sum()\n",
    "gols_fluminense_fora = pd.DataFrame(gols_fluminense_fora)\n",
    "gols_fluminense_fora.columns = ['Gols Fluminense Fora']\n",
    "gols_fluminense_fora.reset_index(level=0, inplace=True)\n",
    "gols_fluminense_fora.columns = ['Time','Gols Fluminense Fora']"
   ]
  },
  {
   "cell_type": "markdown",
   "id": "7aabefea",
   "metadata": {},
   "source": [
    "#### Total de gols"
   ]
  },
  {
   "cell_type": "code",
   "execution_count": 71,
   "id": "cf03d910",
   "metadata": {},
   "outputs": [],
   "source": [
    "gols_fluminense = gols_fluminense_casa.merge(gols_fluminense_fora, how='left', on='Time')"
   ]
  },
  {
   "cell_type": "code",
   "execution_count": 72,
   "id": "21575e3e",
   "metadata": {},
   "outputs": [],
   "source": [
    "gols_fluminense['Gols'] = gols_fluminense['Gols Fluminense Casa'] + gols_fluminense['Gols Fluminense Fora']"
   ]
  },
  {
   "cell_type": "markdown",
   "id": "a3e8edf8",
   "metadata": {},
   "source": [
    "#### Classificar em Ordem Decrescente"
   ]
  },
  {
   "cell_type": "code",
   "execution_count": 75,
   "id": "0e3fd32b",
   "metadata": {},
   "outputs": [],
   "source": [
    "gols_fluminense.sort_values(by=['Gols'], inplace=True, ascending=False)"
   ]
  },
  {
   "cell_type": "markdown",
   "id": "1aa56735",
   "metadata": {},
   "source": [
    "#### Visualização"
   ]
  },
  {
   "cell_type": "code",
   "execution_count": 74,
   "id": "4f691476",
   "metadata": {},
   "outputs": [
    {
     "data": {
      "image/png": "[encoded data removed]",
      "text/plain": [
       "<Figure size 720x720 with 1 Axes>"
      ]
     },
     "metadata": {
      "needs_background": "light"
     },
     "output_type": "display_data"
    }
   ],
   "source": [
    "ax = gols_fluminense.plot.barh(x='Time', y='Gols',color ='green',figsize=(10,10))"
   ]
  },
  {
   "cell_type": "markdown",
   "id": "b120f662",
   "metadata": {},
   "source": [
    "## 7.0 - Evolução da classificação"
   ]
  },
  {
   "cell_type": "markdown",
   "id": "c534886d",
   "metadata": {},
   "source": [
    "### Posição final do Fluminense durante os 10 anos"
   ]
  },
  {
   "cell_type": "code",
   "execution_count": 76,
   "id": "f184aefc",
   "metadata": {},
   "outputs": [
    {
     "data": {
      "text/html": [
       "<div>\n",
       "<style scoped>\n",
       "    .dataframe tbody tr th:only-of-type {\n",
       "        vertical-align: middle;\n",
       "    }\n",
       "\n",
       "    .dataframe tbody tr th {\n",
       "        vertical-align: top;\n",
       "    }\n",
       "\n",
       "    .dataframe thead th {\n",
       "        text-align: right;\n",
       "    }\n",
       "</style>\n",
       "<table border=\"1\" class=\"dataframe\">\n",
       "  <thead>\n",
       "    <tr style=\"text-align: right;\">\n",
       "      <th></th>\n",
       "      <th>Ano</th>\n",
       "      <th>Classificação</th>\n",
       "    </tr>\n",
       "  </thead>\n",
       "  <tbody>\n",
       "    <tr>\n",
       "      <th>0</th>\n",
       "      <td>2003</td>\n",
       "      <td>20</td>\n",
       "    </tr>\n",
       "    <tr>\n",
       "      <th>1</th>\n",
       "      <td>2004</td>\n",
       "      <td>10</td>\n",
       "    </tr>\n",
       "    <tr>\n",
       "      <th>2</th>\n",
       "      <td>2005</td>\n",
       "      <td>5</td>\n",
       "    </tr>\n",
       "    <tr>\n",
       "      <th>3</th>\n",
       "      <td>2006</td>\n",
       "      <td>15</td>\n",
       "    </tr>\n",
       "    <tr>\n",
       "      <th>4</th>\n",
       "      <td>2007</td>\n",
       "      <td>5</td>\n",
       "    </tr>\n",
       "    <tr>\n",
       "      <th>5</th>\n",
       "      <td>2008</td>\n",
       "      <td>14</td>\n",
       "    </tr>\n",
       "    <tr>\n",
       "      <th>6</th>\n",
       "      <td>2009</td>\n",
       "      <td>16</td>\n",
       "    </tr>\n",
       "    <tr>\n",
       "      <th>7</th>\n",
       "      <td>2010</td>\n",
       "      <td>1</td>\n",
       "    </tr>\n",
       "    <tr>\n",
       "      <th>8</th>\n",
       "      <td>2011</td>\n",
       "      <td>3</td>\n",
       "    </tr>\n",
       "    <tr>\n",
       "      <th>9</th>\n",
       "      <td>2012</td>\n",
       "      <td>1</td>\n",
       "    </tr>\n",
       "  </tbody>\n",
       "</table>\n",
       "</div>"
      ],
      "text/plain": [
       "    Ano  Classificação\n",
       "0  2003             20\n",
       "1  2004             10\n",
       "2  2005              5\n",
       "3  2006             15\n",
       "4  2007              5\n",
       "5  2008             14\n",
       "6  2009             16\n",
       "7  2010              1\n",
       "8  2011              3\n",
       "9  2012              1"
      ]
     },
     "execution_count": 76,
     "metadata": {},
     "output_type": "execute_result"
    }
   ],
   "source": [
    "# Função que cria lista dos dataframes de cada ano\n",
    "def listar_df(dataframe):\n",
    "    new_df = dataframe.copy()  # Copia o dataframe input\n",
    "    anos = new_df['Ano'].unique() # Vai criar uma array com cada ano que aparece na coluna\n",
    "    anos = anos.tolist()    # Transforma a array em uma lista\n",
    "    \n",
    "    # Filtrar dataframes\n",
    "    dbs = []\n",
    "    for ano in anos:  # Vai pegar os anos na lista e usar como critério para filtrar os dataframes\n",
    "        db = new_df.loc[new_df['Ano'] == ano]\n",
    "        dbs.append(db)\n",
    "       \n",
    "    return dbs\n",
    "\n",
    "def conseguir_times(dataframe):\n",
    "    # Registrar times\n",
    "    df = dataframe.copy()\n",
    "    times = df['Mandante'].unique()\n",
    "    times = times.tolist()\n",
    "    return times\n",
    "    \n",
    "# Função que conta o número de vitórias\n",
    "def contar_vitórias(dataframe,lista):\n",
    "    vitorias_time = []\n",
    "    for item in lista:\n",
    "        filter = dataframe[\"Vencedor\"] == item\n",
    "        vitorias = dataframe[filter]['Vencedor'].count().astype(np.int64)\n",
    "        vitorias_time += [vitorias,]                                                        \n",
    "    return vitorias_time\n",
    "\n",
    "# Função que conta o número de empates\n",
    "def contar_empates(dataframe, lista ):\n",
    "    empates_time = []\n",
    "    for item in lista:\n",
    "        df = dataframe.copy()\n",
    "        filter1 = (df[\"Mandante\"] == item) | (df[\"Visitante\"] == item)\n",
    "        filter2 = df[\"Vencedor\"] == 'Empate'\n",
    "        df = df[(filter1) & (filter2)]\n",
    "        empates = df['Vencedor'].count().astype(np.int64)\n",
    "        empates_time += [empates,] \n",
    "    return empates_time\n",
    "\n",
    "# Função que conta o número de derrotas\n",
    "def contar_derrotas(dataframe, lista):\n",
    "    derrotas_time = []\n",
    "    for item in lista:\n",
    "        df = dataframe.copy()\n",
    "        filter1 = (df[\"Mandante\"] == item) | (df[\"Visitante\"] == item)\n",
    "        filter2 = (df[\"Vencedor\"] != item) & (df[\"Vencedor\"] != 'Empate')\n",
    "        df = df[(filter1) & (filter2)]\n",
    "        derrotas = df['Vencedor'].count().astype(np.int64)\n",
    "        derrotas_time += [derrotas,] \n",
    "    return derrotas_time\n",
    "\n",
    "# Função para contar gols\n",
    "def contar_gp(dataframe, lista):\n",
    "    gp_time = [] # Gols marcados\n",
    "    for item in lista:\n",
    "        df = dataframe.copy()\n",
    "        # Somar gols marcados em casa\n",
    "        filter1 = (df[\"Mandante\"] == item)\n",
    "        df1 = df[(filter1)]\n",
    "        gp1 = df1['Mandante Gols'].sum().astype(np.int64)\n",
    "        # Somar gols marcados fora\n",
    "        filter2 = (df[\"Visitante\"] == item)\n",
    "        df2 = df[(filter2)]\n",
    "        gp2 = df2['Visitante Gols'].sum().astype(np.int64)\n",
    "        gp = gp1 + gp2\n",
    "        # Somar gols\n",
    "        gp_time += [gp,]\n",
    "\n",
    "    return gp_time\n",
    "\n",
    "def contar_gc(dataframe, lista):\n",
    "    gc_time = [] # Gols sofridos\n",
    "    for item in lista:\n",
    "        df = dataframe.copy()\n",
    "        # Somar gols sofridos em casa\n",
    "        filter3 = (df[\"Mandante\"] == item)\n",
    "        df3 = df[(filter3)]\n",
    "        gc1 = df3['Visitante Gols'].sum().astype(np.int64)\n",
    "        # Somar gols sofridos fora\n",
    "        filter4 = (df[\"Visitante\"] == item)\n",
    "        df4 = df[(filter4)]\n",
    "        gc2 = df4['Mandante Gols'].sum().astype(np.int64)\n",
    "        gc = gc1 + gc2\n",
    "        # Somar gols\n",
    "        gc_time += [gc,]\n",
    "        \n",
    "    return gc_time\n",
    "\n",
    "# Criar lista com nossos dataframes\n",
    "dataframes = listar_df(dados)\n",
    "\n",
    "# Loop final\n",
    "tabelas = []\n",
    "for dataframe in dataframes:\n",
    "    times = conseguir_times(dataframe)\n",
    "    vitorias = contar_vitórias(dataframe,times)\n",
    "    empates = contar_empates(dataframe,times)\n",
    "    derrotas = contar_derrotas(dataframe,times)\n",
    "    gp = contar_gp(dataframe,times)\n",
    "    gc = contar_gc(dataframe,times)\n",
    "    \n",
    "    # Transformar listas em um dataframe\n",
    "    tabela = pd.DataFrame(list(zip(times,vitorias,empates,derrotas,gp,gc)), \n",
    "               columns =['times','vitorias','empates','derrotas','GP','GC']) \n",
    "    #Criar coluna de pontos e de saldo de gol\n",
    "    tabela['Pts'] = 3*tabela['vitorias'] + tabela['empates']\n",
    "    tabela['SG'] = tabela['GP'] + tabela['GC']\n",
    "    # Ordenar os times\n",
    "    tabela = tabela.sort_values(['Pts', 'vitorias', 'SG','GP'], ascending=[False, False, False,False])\n",
    "    # Criar coluna com posição\n",
    "    posição = len(tabela) + 1\n",
    "    tabela['Posição'] = [i for i in range(1,posição)]\n",
    "    # Ajustar ordem das colunas\n",
    "    tabela = tabela[['times','Pts','vitorias','empates','derrotas','GP','GC','SG','Posição']]\n",
    "    \n",
    "    tabelas.append(tabela)\n",
    "    \n",
    "# Obter a classificação do Fluminense ao longo dos anos\n",
    "flu = []\n",
    "for tabela in tabelas:\n",
    "    for index,row in tabela.iterrows():\n",
    "        if row['times'] == 'Fluminense':\n",
    "            pos = row['Posição']\n",
    "    flu.append(pos)\n",
    "\n",
    "def conseguir_ano(dataframe):\n",
    "    new_df = dataframe.copy()  # Copia o dataframe input\n",
    "    anos = new_df['Ano'].unique() # Vai criar uma array com cada ano que aparece na coluna\n",
    "    anos = anos.tolist()    # Transforma a array em uma lista\n",
    "    return anos\n",
    "\n",
    "ano = conseguir_ano(df)\n",
    "\n",
    "campeões = pd.DataFrame(list(zip(ano,flu)),columns =['Ano','Classificação'])\n",
    "\n",
    "campeões.head(17)\n"
   ]
  },
  {
   "cell_type": "markdown",
   "id": "9b0e8334",
   "metadata": {},
   "source": [
    "## 8.0 - Conclusão"
   ]
  },
  {
   "cell_type": "code",
   "execution_count": 77,
   "id": "acc228a8",
   "metadata": {},
   "outputs": [
    {
     "name": "stdout",
     "output_type": "stream",
     "text": [
      "O Fluminense venceu 161 jogos.\n",
      "O Fluminense perdeu 129 jogos.\n",
      "O Fluminense empatou 110 jogos.\n",
      "O Fluminense marcou 582 gols.\n",
      "O Fluminense marcou 1.5 gols por partida.\n",
      "O Fluminense teve aproveitamento de 50.0%.\n"
     ]
    }
   ],
   "source": [
    "# Vitórias\n",
    "vitorias = resultado['Vit'].sum()\n",
    "print('O Fluminense venceu '+str(vitorias) + ' jogos.')\n",
    "\n",
    "# Derrotas\n",
    "derrotas = resultado['Der'].sum()\n",
    "print('O Fluminense perdeu '+str(derrotas) + ' jogos.')\n",
    "\n",
    "# Empates\n",
    "empates = resultado['Emp'].sum()\n",
    "print('O Fluminense empatou '+str(empates) + ' jogos.')\n",
    "\n",
    "# Gols Marcados\n",
    "print('O Fluminense marcou '+str(gols) + ' gols.')\n",
    "\n",
    "# Gols por partida\n",
    "print('O Fluminense marcou '+str(round(gols_partida,1)) + ' gols por partida.')\n",
    "\n",
    "# Aproveitamento de pontos\n",
    "pontos = 3*vitorias+empates\n",
    "aproveitamento = pontos/(3*(vitorias+derrotas+empates))\n",
    "print('O Fluminense teve aproveitamento de '+str(100*round(aproveitamento,1)) + '%.')"
   ]
  }
 ],
 "metadata": {
  "kernelspec": {
   "display_name": "Python 3 (ipykernel)",
   "language": "python",
   "name": "python3"
  },
  "language_info": {
   "codemirror_mode": {
    "name": "ipython",
    "version": 3
   },
   "file_extension": ".py",
   "mimetype": "text/x-python",
   "name": "python",
   "nbconvert_exporter": "python",
   "pygments_lexer": "ipython3",
   "version": "3.10.2"
  }
 },
 "nbformat": 4,
 "nbformat_minor": 5
}
